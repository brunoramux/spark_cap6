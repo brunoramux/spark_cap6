{
 "cells": [
  {
   "cell_type": "markdown",
   "metadata": {},
   "source": [
    "# <font color='blue'>Data Science Academy Big Data Real-Time Analytics com Python e Spark</font>\n",
    "\n",
    "# <font color='blue'>Capítulo 6</font>"
   ]
  },
  {
   "cell_type": "markdown",
   "metadata": {},
   "source": [
    "****** Este Jupyter Notebook foi atualizado para a versão 3.6.1. da Linguagem Python em 13/06/2017 ******"
   ]
  },
  {
   "cell_type": "markdown",
   "metadata": {},
   "source": [
    "****** Caso receba mensagem de erro \"name 'sc' is not defined\", interrompa o pyspark e apague o diretório metasore_db no mesmo diretório onde está este Jupyter notebook ******"
   ]
  },
  {
   "cell_type": "markdown",
   "metadata": {},
   "source": [
    "Acesse http://localhost:4040 sempre que quiser acompanhar a execução dos jobs"
   ]
  },
  {
   "cell_type": "markdown",
   "metadata": {},
   "source": [
    "# Transformações"
   ]
  },
  {
   "cell_type": "code",
   "execution_count": 1,
   "metadata": {
    "collapsed": true
   },
   "outputs": [],
   "source": [
    "# Criando uma lista em Python\n",
    "lista1 = [124, 901, 652, 102, 397]"
   ]
  },
  {
   "cell_type": "code",
   "execution_count": 2,
   "metadata": {},
   "outputs": [
    {
     "data": {
      "text/plain": [
       "list"
      ]
     },
     "execution_count": 2,
     "metadata": {},
     "output_type": "execute_result"
    }
   ],
   "source": [
    "type(lista1)"
   ]
  },
  {
   "cell_type": "code",
   "execution_count": 3,
   "metadata": {},
   "outputs": [],
   "source": [
    "# Carregando dados de uma coleção\n",
    "lstRDD = sc.parallelize(lista1)"
   ]
  },
  {
   "cell_type": "code",
   "execution_count": 4,
   "metadata": {},
   "outputs": [
    {
     "data": {
      "text/plain": [
       "pyspark.rdd.RDD"
      ]
     },
     "execution_count": 4,
     "metadata": {},
     "output_type": "execute_result"
    }
   ],
   "source": [
    "type(lstRDD)"
   ]
  },
  {
   "cell_type": "code",
   "execution_count": 5,
   "metadata": {},
   "outputs": [
    {
     "data": {
      "text/plain": [
       "[124, 901, 652, 102, 397]"
      ]
     },
     "execution_count": 5,
     "metadata": {},
     "output_type": "execute_result"
    }
   ],
   "source": [
    "lstRDD.collect()"
   ]
  },
  {
   "cell_type": "code",
   "execution_count": 6,
   "metadata": {},
   "outputs": [
    {
     "data": {
      "text/plain": [
       "5"
      ]
     },
     "execution_count": 6,
     "metadata": {},
     "output_type": "execute_result"
    }
   ],
   "source": [
    "lstRDD.count()"
   ]
  },
  {
   "cell_type": "code",
   "execution_count": 7,
   "metadata": {
    "collapsed": true
   },
   "outputs": [],
   "source": [
    "# Carregando um arquivo e criando um RDD. \n",
    "autoDataRDD = sc.textFile(\"carros.csv\")"
   ]
  },
  {
   "cell_type": "code",
   "execution_count": 8,
   "metadata": {},
   "outputs": [
    {
     "data": {
      "text/plain": [
       "pyspark.rdd.RDD"
      ]
     },
     "execution_count": 8,
     "metadata": {},
     "output_type": "execute_result"
    }
   ],
   "source": [
    "type(autoDataRDD)"
   ]
  },
  {
   "cell_type": "code",
   "execution_count": 9,
   "metadata": {},
   "outputs": [
    {
     "data": {
      "text/plain": [
       "'MAKE,FUELTYPE,ASPIRE,DOORS,BODY,DRIVE,CYLINDERS,HP,RPM,MPG-CITY,MPG-HWY,PRICE'"
      ]
     },
     "execution_count": 9,
     "metadata": {},
     "output_type": "execute_result"
    }
   ],
   "source": [
    "# Operação de Ação. \n",
    "autoDataRDD.first()"
   ]
  },
  {
   "cell_type": "code",
   "execution_count": 10,
   "metadata": {},
   "outputs": [
    {
     "data": {
      "text/plain": [
       "['MAKE,FUELTYPE,ASPIRE,DOORS,BODY,DRIVE,CYLINDERS,HP,RPM,MPG-CITY,MPG-HWY,PRICE',\n",
       " 'subaru,gas,std,two,hatchback,fwd,four,69,4900,31,36,5118',\n",
       " 'chevrolet,gas,std,two,hatchback,fwd,three,48,5100,47,53,5151',\n",
       " 'mazda,gas,std,two,hatchback,fwd,four,68,5000,30,31,5195',\n",
       " 'toyota,gas,std,two,hatchback,fwd,four,62,4800,35,39,5348']"
      ]
     },
     "execution_count": 10,
     "metadata": {},
     "output_type": "execute_result"
    }
   ],
   "source": [
    "autoDataRDD.take(5)"
   ]
  },
  {
   "cell_type": "code",
   "execution_count": 11,
   "metadata": {},
   "outputs": [
    {
     "data": {
      "text/plain": [
       "carros.csv MapPartitionsRDD[3] at textFile at NativeMethodAccessorImpl.java:0"
      ]
     },
     "execution_count": 11,
     "metadata": {},
     "output_type": "execute_result"
    }
   ],
   "source": [
    "# Cada ação gera um novo processo de computação dos dados. \n",
    "# Mas podemos persistir os dados em cache para que ele possa ser usado por outras ações, sem a necessidade \n",
    "# de nova computação.\n",
    "autoDataRDD.cache()"
   ]
  },
  {
   "cell_type": "code",
   "execution_count": 12,
   "metadata": {},
   "outputs": [
    {
     "name": "stdout",
     "output_type": "stream",
     "text": [
      "MAKE,FUELTYPE,ASPIRE,DOORS,BODY,DRIVE,CYLINDERS,HP,RPM,MPG-CITY,MPG-HWY,PRICE\n",
      "subaru,gas,std,two,hatchback,fwd,four,69,4900,31,36,5118\n",
      "chevrolet,gas,std,two,hatchback,fwd,three,48,5100,47,53,5151\n",
      "mazda,gas,std,two,hatchback,fwd,four,68,5000,30,31,5195\n",
      "toyota,gas,std,two,hatchback,fwd,four,62,4800,35,39,5348\n",
      "mitsubishi,gas,std,two,hatchback,fwd,four,68,5500,37,41,5389\n",
      "honda,gas,std,two,hatchback,fwd,four,60,5500,38,42,5399\n",
      "nissan,gas,std,two,sedan,fwd,four,69,5200,31,37,5499\n",
      "dodge,gas,std,two,hatchback,fwd,four,68,5500,37,41,5572\n",
      "plymouth,gas,std,two,hatchback,fwd,four,68,5500,37,41,5572\n",
      "mazda,gas,std,two,hatchback,fwd,four,68,5000,31,38,6095\n",
      "mitsubishi,gas,std,two,hatchback,fwd,four,68,5500,31,38,6189\n",
      "dodge,gas,std,four,hatchback,fwd,four,68,5500,31,38,6229\n",
      "plymouth,gas,std,four,hatchback,fwd,four,68,5500,31,38,6229\n",
      "chevrolet,gas,std,two,hatchback,fwd,four,70,5400,38,43,6295\n",
      "toyota,gas,std,two,hatchback,fwd,four,62,4800,31,38,6338\n",
      "dodge,gas,std,two,hatchback,fwd,four,68,5500,31,38,6377\n",
      "honda,gas,std,two,hatchback,fwd,four,58,4800,49,54,6479\n",
      "toyota,gas,std,four,hatchback,fwd,four,62,4800,31,38,6488\n",
      "honda,gas,std,two,hatchback,fwd,four,76,6000,30,34,6529\n",
      "chevrolet,gas,std,four,sedan,fwd,four,70,5400,38,43,6575\n",
      "nissan,gas,std,two,sedan,fwd,four,69,5200,31,37,6649\n",
      "mitsubishi,gas,std,two,hatchback,fwd,four,68,5500,31,38,6669\n",
      "dodge,gas,std,four,sedan,fwd,four,68,5500,31,38,6692\n",
      "plymouth,gas,std,four,sedan,fwd,four,68,5500,31,38,6692\n",
      "mazda,gas,std,four,sedan,fwd,four,68,5000,31,38,6695\n",
      "isuzu,gas,std,four,sedan,rwd,four,78,4800,24,29,6785\n",
      "mazda,gas,std,two,hatchback,fwd,four,68,5000,31,38,6795\n",
      "nissan,gas,std,four,sedan,fwd,four,69,5200,31,37,6849\n",
      "honda,gas,std,two,hatchback,fwd,four,76,6000,31,38,6855\n",
      "toyota,gas,std,four,wagon,fwd,four,62,4800,31,37,6918\n",
      "toyota,gas,std,four,sedan,fwd,four,70,4800,30,37,6938\n",
      "mitsubishi,gas,std,four,sedan,fwd,four,88,5000,25,32,6989\n",
      "subaru,gas,std,two,hatchback,fwd,four,73,4400,26,31,7053\n",
      "nissan,diesel,std,two,sedan,fwd,four,55,4800,45,50,7099\n",
      "subaru,gas,std,four,sedan,fwd,four,82,4800,32,37,7126\n",
      "honda,gas,std,two,hatchback,fwd,four,76,6000,30,34,7129\n",
      "toyota,gas,std,four,hatchback,fwd,four,70,4800,30,37,7198\n",
      "honda,gas,std,four,sedan,fwd,four,76,6000,30,34,7295\n",
      "honda,gas,std,four,wagon,fwd,four,76,6000,30,34,7295\n",
      "nissan,gas,std,two,sedan,fwd,four,69,5200,31,37,7299\n",
      "nissan,gas,std,four,wagon,fwd,four,69,5200,31,37,7349\n",
      "mazda,gas,std,four,sedan,fwd,four,68,5000,31,38,7395\n",
      "subaru,gas,std,four,wagon,fwd,four,82,4800,28,32,7463\n",
      "nissan,gas,std,four,sedan,fwd,four,69,5200,31,37,7499\n",
      "subaru,gas,std,two,hatchback,4wd,four,73,4400,26,31,7603\n",
      "dodge,gas,std,four,sedan,fwd,four,68,5500,31,38,7609\n",
      "plymouth,gas,std,four,sedan,fwd,four,68,5500,31,38,7609\n",
      "mitsubishi,gas,turbo,two,hatchback,fwd,four,102,5500,24,30,7689\n",
      "toyota,gas,std,four,sedan,fwd,four,70,4800,38,47,7738\n",
      "subaru,gas,std,four,sedan,fwd,four,82,4400,28,33,7775\n",
      "volkswagen,diesel,std,two,sedan,fwd,four,52,4800,37,46,7775\n",
      "toyota,diesel,std,four,hatchback,fwd,four,56,4500,38,47,7788\n",
      "nissan,gas,std,two,hatchback,fwd,four,69,5200,31,37,7799\n",
      "honda,gas,std,two,hatchback,fwd,four,86,5800,27,33,7895\n",
      "toyota,gas,std,four,wagon,4wd,four,62,4800,27,32,7898\n",
      "toyota,diesel,std,four,sedan,fwd,four,56,4500,34,36,7898\n",
      "dodge,gas,turbo,two,hatchback,fwd,four,102,5500,24,30,7957\n",
      "plymouth,gas,turbo,two,hatchback,fwd,four,102,5500,24,30,7957\n",
      "volkswagen,gas,std,two,sedan,fwd,four,85,5250,27,34,7975\n",
      "volkswagen,diesel,std,four,sedan,fwd,four,52,4800,37,46,7995\n",
      "nissan,gas,std,four,wagon,fwd,four,69,5200,31,37,7999\n",
      "subaru,gas,std,four,wagon,4wd,four,82,4800,23,29,8013\n",
      "toyota,gas,std,two,sedan,rwd,four,70,4800,29,34,8058\n",
      "mitsubishi,gas,std,four,sedan,fwd,four,88,5000,25,32,8189\n",
      "volkswagen,gas,std,four,sedan,fwd,four,85,5250,27,34,8195\n",
      "toyota,gas,std,two,hatchback,rwd,four,70,4800,29,34,8238\n",
      "nissan,gas,std,two,hardtop,fwd,four,69,5200,31,37,8249\n",
      "toyota,gas,std,four,hatchback,fwd,four,70,4800,28,34,8358\n",
      "toyota,gas,std,two,hardtop,rwd,four,116,4800,24,30,8449\n",
      "mazda,gas,std,four,sedan,fwd,four,84,4800,26,32,8495\n",
      "volkswagen,gas,std,four,sedan,fwd,four,85,5250,27,34,8495\n",
      "mitsubishi,gas,std,two,hatchback,fwd,four,88,5000,25,32,8499\n",
      "toyota,gas,std,four,wagon,4wd,four,62,4800,27,32,8778\n",
      "honda,gas,std,four,sedan,fwd,four,86,5800,27,33,8845\n",
      "mazda,gas,std,two,hatchback,fwd,four,84,4800,26,32,8845\n",
      "dodge,gas,std,four,wagon,fwd,four,88,5000,24,30,8921\n",
      "plymouth,gas,std,four,wagon,fwd,four,88,5000,24,30,8921\n",
      "toyota,gas,std,four,sedan,fwd,four,92,4200,29,34,8948\n",
      "nissan,gas,std,four,hatchback,fwd,four,97,5200,27,34,8949\n",
      "honda,gas,std,two,hatchback,fwd,four,86,5800,27,33,9095\n",
      "subaru,gas,std,four,sedan,4wd,four,82,4800,24,25,9233\n",
      "toyota,gas,std,four,sedan,fwd,four,70,4800,28,34,9258\n",
      "mitsubishi,gas,turbo,four,sedan,fwd,four,116,5500,23,30,9279\n",
      "mitsubishi,gas,std,four,sedan,fwd,four,116,5500,23,30,9279\n",
      "toyota,gas,std,two,sedan,rwd,four,112,6600,26,29,9298\n",
      "volkswagen,diesel,turbo,four,sedan,fwd,four,68,4500,37,42,9495\n",
      "toyota,gas,std,two,hatchback,rwd,four,112,6600,26,29,9538\n",
      "nissan,gas,std,four,sedan,fwd,four,97,5200,27,34,9549\n",
      "toyota,gas,std,two,hardtop,rwd,four,116,4800,24,30,9639\n",
      "mitsubishi,gas,turbo,two,hatchback,fwd,four,116,5500,23,30,9959\n",
      "subaru,gas,std,four,sedan,fwd,four,94,5200,26,32,9960\n",
      "volkswagen,gas,std,two,hatchback,fwd,four,90,5500,24,29,9980\n",
      "toyota,gas,std,four,hatchback,fwd,four,92,4200,27,32,9988\n",
      "toyota,gas,std,two,hatchback,rwd,four,116,4800,24,30,9989\n",
      "volkswagen,gas,std,four,sedan,fwd,four,100,5500,26,32,9995\n",
      "subaru,gas,std,four,wagon,fwd,four,94,5200,25,31,10198\n",
      "mazda,gas,std,four,sedan,fwd,four,84,4800,26,32,10245\n",
      "honda,gas,std,four,sedan,fwd,four,86,5800,27,33,10295\n",
      "honda,gas,std,two,sedan,fwd,four,100,5500,25,31,10345\n",
      "mazda,gas,std,two,hatchback,fwd,four,84,4800,26,32,10595\n",
      "toyota,diesel,turbo,four,sedan,fwd,four,73,4500,30,33,10698\n",
      "toyota,gas,std,four,sedan,fwd,four,92,4200,27,32,10898\n",
      "mazda,gas,std,two,hatchback,rwd,two,101,6000,17,23,10945\n",
      "isuzu,gas,std,two,hatchback,rwd,four,90,5000,24,29,11048\n",
      "toyota,gas,std,two,hardtop,rwd,four,116,4800,24,30,11199\n",
      "mazda,gas,std,four,hatchback,fwd,four,84,4800,26,32,11245\n",
      "toyota,gas,std,four,hatchback,fwd,four,92,4200,27,32,11248\n",
      "subaru,gas,turbo,four,sedan,4wd,four,111,4800,24,29,11259\n",
      "toyota,gas,std,two,hatchback,rwd,four,116,4800,24,30,11549\n",
      "volkswagen,gas,std,two,convertible,fwd,four,90,5500,24,29,11595\n",
      "subaru,gas,turbo,four,wagon,4wd,four,111,4800,23,23,11694\n",
      "mazda,gas,std,two,hatchback,rwd,two,101,6000,17,23,11845\n",
      "saab,gas,std,two,hatchback,fwd,four,110,5250,21,28,11850\n",
      "peugot,gas,std,four,sedan,rwd,four,97,5000,19,24,11900\n",
      "saab,gas,std,four,sedan,fwd,four,110,5250,21,28,12170\n",
      "volkswagen,gas,std,four,wagon,fwd,four,88,5500,25,31,12290\n",
      "peugot,gas,std,four,wagon,rwd,four,97,5000,19,24,12440\n",
      "mitsubishi,gas,turbo,two,hatchback,fwd,four,145,5000,19,24,12629\n",
      "plymouth,gas,turbo,two,hatchback,rwd,four,145,5000,19,24,12764\n",
      "volvo,gas,std,four,sedan,rwd,four,114,5400,23,28,12940\n",
      "honda,gas,std,four,sedan,fwd,four,101,5800,24,28,12945\n",
      "dodge,gas,turbo,two,hatchback,fwd,four,145,5000,19,24,12964\n",
      "peugot,diesel,turbo,four,sedan,rwd,four,95,4150,28,33,13200\n",
      "volkswagen,gas,std,four,sedan,fwd,five,110,5500,19,24,13295\n",
      "volvo,gas,std,four,wagon,rwd,four,114,5400,23,28,13415\n",
      "alfa-romero,gas,std,two,convertible,rwd,four,111,5000,21,27,13495\n",
      "nissan,gas,std,four,sedan,fwd,six,152,5200,17,22,13499\n",
      "nissan,gas,std,four,sedan,fwd,six,152,5200,19,25,13499\n",
      "mazda,gas,std,two,hatchback,rwd,two,101,6000,17,23,13645\n",
      "volkswagen,diesel,turbo,four,sedan,fwd,four,68,4500,33,38,13845\n",
      "peugot,diesel,turbo,four,wagon,rwd,four,95,4150,25,25,13860\n",
      "audi,gas,std,four,sedan,fwd,four,102,5500,24,30,13950\n",
      "nissan,gas,std,four,wagon,fwd,six,152,5200,17,22,14399\n",
      "mitsubishi,gas,turbo,two,hatchback,fwd,four,145,5000,19,24,14489\n",
      "mitsubishi,gas,turbo,two,hatchback,fwd,four,145,5000,19,24,14869\n",
      "saab,gas,std,two,hatchback,fwd,four,110,5250,21,28,15040\n",
      "audi,gas,std,two,sedan,fwd,five,110,5500,19,25,15250\n",
      "saab,gas,std,four,sedan,fwd,four,110,5250,21,28,15510\n",
      "peugot,gas,std,four,sedan,rwd,four,95,5000,19,24,15580\n",
      "mazda,gas,std,two,hatchback,rwd,two,135,6000,16,23,15645\n",
      "toyota,gas,std,four,sedan,rwd,six,156,5200,20,24,15690\n",
      "toyota,gas,std,four,wagon,rwd,six,156,5200,19,24,15750\n",
      "volvo,gas,std,four,sedan,rwd,four,114,5400,24,28,15985\n",
      "toyota,gas,std,two,hatchback,rwd,six,161,5200,19,24,15998\n",
      "bmw,gas,std,two,sedan,rwd,four,101,5800,23,29,16430\n",
      "alfa-romero,gas,std,two,convertible,rwd,four,111,5000,21,27,16500\n",
      "alfa-romero,gas,std,two,hatchback,rwd,six,154,5000,19,26,16500\n",
      "mercury,gas,turbo,two,hatchback,rwd,four,175,5000,19,24,16503\n",
      "volvo,gas,std,four,wagon,rwd,four,114,5400,24,28,16515\n",
      "toyota,gas,std,two,hatchback,rwd,six,161,5200,20,24,16558\n",
      "peugot,gas,std,four,sedan,rwd,four,97,5000,19,24,16630\n",
      "peugot,gas,std,four,wagon,rwd,four,95,5000,19,24,16695\n",
      "volvo,gas,std,four,sedan,rwd,four,114,5400,23,28,16845\n",
      "peugot,diesel,turbo,four,sedan,rwd,four,95,4150,28,33,16900\n",
      "bmw,gas,std,four,sedan,rwd,four,101,5800,23,29,16925\n",
      "peugot,diesel,turbo,four,wagon,rwd,four,95,4150,25,25,17075\n",
      "nissan,gas,std,two,hatchback,rwd,six,160,5200,19,25,17199\n",
      "audi,gas,std,four,sedan,4wd,five,115,5500,18,22,17450\n",
      "toyota,gas,std,two,convertible,rwd,four,116,4800,24,30,17669\n",
      "audi,gas,std,four,sedan,fwd,five,110,5500,19,25,17710\n",
      "peugot,diesel,turbo,four,sedan,rwd,four,95,4150,28,33,17950\n",
      "peugot,gas,turbo,four,sedan,rwd,four,142,5600,18,24,18150\n",
      "saab,gas,turbo,two,hatchback,fwd,four,160,5500,19,26,18150\n",
      "mazda,gas,std,four,sedan,rwd,four,120,5000,19,27,18280\n",
      "mazda,diesel,std,four,sedan,rwd,four,72,4200,31,39,18344\n",
      "nissan,gas,std,two,hatchback,rwd,six,160,5200,19,25,18399\n",
      "volvo,gas,turbo,four,sedan,rwd,four,162,5100,17,22,18420\n",
      "saab,gas,turbo,four,sedan,fwd,four,160,5500,19,26,18620\n",
      "audi,gas,std,four,wagon,fwd,five,110,5500,19,25,18920\n",
      "volvo,gas,turbo,four,wagon,rwd,four,162,5100,17,22,18950\n",
      "volvo,gas,turbo,four,sedan,rwd,four,160,5300,19,25,19045\n",
      "nissan,gas,turbo,two,hatchback,rwd,six,200,5200,17,23,19699\n",
      "bmw,gas,std,two,sedan,rwd,six,121,4250,21,28,20970\n",
      "bmw,gas,std,four,sedan,rwd,six,121,4250,21,28,21105\n",
      "volvo,gas,std,four,sedan,rwd,six,134,5500,18,23,21485\n",
      "porsche,gas,std,two,hatchback,rwd,four,143,5500,19,27,22018\n",
      "volvo,diesel,turbo,four,sedan,rwd,six,106,4800,26,27,22470\n",
      "volvo,gas,turbo,four,sedan,rwd,four,114,5400,19,25,22625\n",
      "audi,gas,turbo,four,sedan,fwd,five,140,5500,17,20,23875\n",
      "bmw,gas,std,four,sedan,rwd,six,121,4250,20,25,24565\n",
      "mercedes-benz,diesel,turbo,four,sedan,rwd,five,123,4350,22,25,25552\n",
      "mercedes-benz,diesel,turbo,two,hardtop,rwd,five,123,4350,22,25,28176\n",
      "mercedes-benz,diesel,turbo,four,wagon,rwd,five,123,4350,22,25,28248\n",
      "bmw,gas,std,four,sedan,rwd,six,182,5400,16,22,30760\n",
      "mercedes-benz,diesel,turbo,four,sedan,rwd,five,123,4350,22,25,31600\n",
      "jaguar,gas,std,four,sedan,rwd,six,176,4750,15,19,32250\n",
      "porsche,gas,std,two,hardtop,rwd,six,207,5900,17,25,32528\n",
      "porsche,gas,std,two,hardtop,rwd,six,207,5900,17,25,34028\n",
      "mercedes-benz,gas,std,four,sedan,rwd,eight,155,4750,16,18,34184\n",
      "mercedes-benz,gas,std,two,convertible,rwd,eight,155,4750,16,18,35056\n",
      "jaguar,gas,std,four,sedan,rwd,six,176,4750,15,19,35550\n",
      "jaguar,gas,std,two,sedan,rwd,twelve,262,5000,13,17,36000\n",
      "bmw,gas,std,four,sedan,rwd,six,182,5400,15,20,36880\n",
      "porsche,gas,std,two,convertible,rwd,six,207,5900,17,25,37028\n",
      "mercedes-benz,gas,std,four,sedan,rwd,eight,184,4500,14,16,40960\n",
      "bmw,gas,std,two,sedan,rwd,six,182,5400,16,22,41315\n",
      "mercedes-benz,gas,std,two,hardtop,rwd,eight,184,4500,14,16,45400\n"
     ]
    }
   ],
   "source": [
    "for line in autoDataRDD.collect():\n",
    "    print(line)"
   ]
  },
  {
   "cell_type": "code",
   "execution_count": 13,
   "metadata": {},
   "outputs": [
    {
     "data": {
      "text/plain": [
       "['MAKE\\tFUELTYPE\\tASPIRE\\tDOORS\\tBODY\\tDRIVE\\tCYLINDERS\\tHP\\tRPM\\tMPG-CITY\\tMPG-HWY\\tPRICE',\n",
       " 'subaru\\tgas\\tstd\\ttwo\\thatchback\\tfwd\\tfour\\t69\\t4900\\t31\\t36\\t5118',\n",
       " 'chevrolet\\tgas\\tstd\\ttwo\\thatchback\\tfwd\\tthree\\t48\\t5100\\t47\\t53\\t5151',\n",
       " 'mazda\\tgas\\tstd\\ttwo\\thatchback\\tfwd\\tfour\\t68\\t5000\\t30\\t31\\t5195',\n",
       " 'toyota\\tgas\\tstd\\ttwo\\thatchback\\tfwd\\tfour\\t62\\t4800\\t35\\t39\\t5348']"
      ]
     },
     "execution_count": 13,
     "metadata": {},
     "output_type": "execute_result"
    }
   ],
   "source": [
    "# Map() e criação de um novo RDD - Transformação - Lazy Evaluation\n",
    "tsvData = autoDataRDD.map(lambda x : x.replace(\",\",\"\\t\"))\n",
    "tsvData.take(5)"
   ]
  },
  {
   "cell_type": "code",
   "execution_count": 14,
   "metadata": {},
   "outputs": [
    {
     "data": {
      "text/plain": [
       "'MAKE,FUELTYPE,ASPIRE,DOORS,BODY,DRIVE,CYLINDERS,HP,RPM,MPG-CITY,MPG-HWY,PRICE'"
      ]
     },
     "execution_count": 14,
     "metadata": {},
     "output_type": "execute_result"
    }
   ],
   "source": [
    "autoDataRDD.first()"
   ]
  },
  {
   "cell_type": "code",
   "execution_count": 15,
   "metadata": {
    "collapsed": true
   },
   "outputs": [],
   "source": [
    "# Filter() e criação de um novo RDD - Transformação - Lazy Evaluation\n",
    "toyotaData = autoDataRDD.filter(lambda x: \"toyota\" in x)"
   ]
  },
  {
   "cell_type": "code",
   "execution_count": 16,
   "metadata": {},
   "outputs": [
    {
     "data": {
      "text/plain": [
       "32"
      ]
     },
     "execution_count": 16,
     "metadata": {},
     "output_type": "execute_result"
    }
   ],
   "source": [
    "# Ação\n",
    "toyotaData.count()"
   ]
  },
  {
   "cell_type": "code",
   "execution_count": 17,
   "metadata": {},
   "outputs": [
    {
     "data": {
      "text/plain": [
       "['toyota,gas,std,two,hatchback,fwd,four,62,4800,35,39,5348',\n",
       " 'toyota,gas,std,two,hatchback,fwd,four,62,4800,31,38,6338',\n",
       " 'toyota,gas,std,four,hatchback,fwd,four,62,4800,31,38,6488',\n",
       " 'toyota,gas,std,four,wagon,fwd,four,62,4800,31,37,6918',\n",
       " 'toyota,gas,std,four,sedan,fwd,four,70,4800,30,37,6938',\n",
       " 'toyota,gas,std,four,hatchback,fwd,four,70,4800,30,37,7198',\n",
       " 'toyota,gas,std,four,sedan,fwd,four,70,4800,38,47,7738',\n",
       " 'toyota,diesel,std,four,hatchback,fwd,four,56,4500,38,47,7788',\n",
       " 'toyota,gas,std,four,wagon,4wd,four,62,4800,27,32,7898',\n",
       " 'toyota,diesel,std,four,sedan,fwd,four,56,4500,34,36,7898',\n",
       " 'toyota,gas,std,two,sedan,rwd,four,70,4800,29,34,8058',\n",
       " 'toyota,gas,std,two,hatchback,rwd,four,70,4800,29,34,8238',\n",
       " 'toyota,gas,std,four,hatchback,fwd,four,70,4800,28,34,8358',\n",
       " 'toyota,gas,std,two,hardtop,rwd,four,116,4800,24,30,8449',\n",
       " 'toyota,gas,std,four,wagon,4wd,four,62,4800,27,32,8778',\n",
       " 'toyota,gas,std,four,sedan,fwd,four,92,4200,29,34,8948',\n",
       " 'toyota,gas,std,four,sedan,fwd,four,70,4800,28,34,9258',\n",
       " 'toyota,gas,std,two,sedan,rwd,four,112,6600,26,29,9298',\n",
       " 'toyota,gas,std,two,hatchback,rwd,four,112,6600,26,29,9538',\n",
       " 'toyota,gas,std,two,hardtop,rwd,four,116,4800,24,30,9639']"
      ]
     },
     "execution_count": 17,
     "metadata": {},
     "output_type": "execute_result"
    }
   ],
   "source": [
    "# Ação\n",
    "toyotaData.take(20)"
   ]
  },
  {
   "cell_type": "code",
   "execution_count": 18,
   "metadata": {
    "collapsed": true
   },
   "outputs": [],
   "source": [
    "# Pode salvar o conjunto de dados, o RDD. \n",
    "# Nesse caso, o Spark solicita os dados ao processo Master e então gera um arquivo de saída.\n",
    "savedRDD = open(\"carros_v2.csv\",\"w\")\n",
    "savedRDD.write(\"\\n\".join(autoDataRDD.collect()))\n",
    "savedRDD.close()"
   ]
  },
  {
   "cell_type": "markdown",
   "metadata": {},
   "source": [
    "## Operações Set"
   ]
  },
  {
   "cell_type": "code",
   "execution_count": 19,
   "metadata": {
    "collapsed": true
   },
   "outputs": [],
   "source": [
    "# Set operations\n",
    "palavras1 = sc.parallelize([\"Big Data\",\"Data Science\",\"Analytics\",\"Visualization\"])\n",
    "palavras2 = sc.parallelize([\"Big Data\",\"R\",\"Python\",\"Scala\"])"
   ]
  },
  {
   "cell_type": "code",
   "execution_count": 20,
   "metadata": {},
   "outputs": [
    {
     "name": "stdout",
     "output_type": "stream",
     "text": [
      "Data Science\n",
      "R\n",
      "Analytics\n",
      "Visualization\n",
      "Scala\n",
      "Big Data\n",
      "Python\n"
     ]
    }
   ],
   "source": [
    "# União\n",
    "for unions in palavras1.union(palavras2).distinct().collect():\n",
    "    print(unions)"
   ]
  },
  {
   "cell_type": "code",
   "execution_count": 21,
   "metadata": {},
   "outputs": [
    {
     "name": "stdout",
     "output_type": "stream",
     "text": [
      "Big Data\n"
     ]
    }
   ],
   "source": [
    "# Interseção\n",
    "for intersects in palavras1.intersection(palavras2).collect():\n",
    "    print(intersects)"
   ]
  },
  {
   "cell_type": "code",
   "execution_count": 22,
   "metadata": {},
   "outputs": [
    {
     "data": {
      "text/plain": [
       "[1, 2, 3, 4, 5, 6, 7, 8, 9, 10, 11, 12, 13, 14, 15, 16, 17, 18, 19, 20]"
      ]
     },
     "execution_count": 22,
     "metadata": {},
     "output_type": "execute_result"
    }
   ],
   "source": [
    "rdd01 = sc.parallelize(range(1,10))\n",
    "rdd02 = sc.parallelize(range(10,21))\n",
    "rdd01.union(rdd02).collect()"
   ]
  },
  {
   "cell_type": "code",
   "execution_count": 23,
   "metadata": {},
   "outputs": [
    {
     "data": {
      "text/plain": [
       "[5, 6, 7, 8, 9]"
      ]
     },
     "execution_count": 23,
     "metadata": {},
     "output_type": "execute_result"
    }
   ],
   "source": [
    "rdd01 = sc.parallelize(range(1,10))\n",
    "rdd02 = sc.parallelize(range(5,15))\n",
    "rdd01.intersection(rdd02).collect()"
   ]
  },
  {
   "cell_type": "markdown",
   "metadata": {},
   "source": [
    "## Left/Right Outer Join"
   ]
  },
  {
   "cell_type": "code",
   "execution_count": 24,
   "metadata": {},
   "outputs": [
    {
     "data": {
      "text/plain": [
       "[('laranja', (1, 1))]"
      ]
     },
     "execution_count": 24,
     "metadata": {},
     "output_type": "execute_result"
    }
   ],
   "source": [
    "names1 = sc.parallelize((\"banana\", \"uva\", \"laranja\")).map(lambda a: (a, 1))\n",
    "names2 = sc.parallelize((\"laranja\", \"abacaxi\", \"manga\")).map(lambda a: (a, 1))\n",
    "names1.join(names2).collect()"
   ]
  },
  {
   "cell_type": "code",
   "execution_count": 25,
   "metadata": {},
   "outputs": [
    {
     "data": {
      "text/plain": [
       "[('uva', (1, None)), ('banana', (1, None)), ('laranja', (1, 1))]"
      ]
     },
     "execution_count": 25,
     "metadata": {},
     "output_type": "execute_result"
    }
   ],
   "source": [
    "names1.leftOuterJoin(names2).collect()"
   ]
  },
  {
   "cell_type": "code",
   "execution_count": 26,
   "metadata": {},
   "outputs": [
    {
     "data": {
      "text/plain": [
       "[('manga', (None, 1)), ('laranja', (1, 1)), ('abacaxi', (None, 1))]"
      ]
     },
     "execution_count": 26,
     "metadata": {},
     "output_type": "execute_result"
    }
   ],
   "source": [
    "names1.rightOuterJoin(names2).collect()"
   ]
  },
  {
   "cell_type": "markdown",
   "metadata": {},
   "source": [
    "## Distinct"
   ]
  },
  {
   "cell_type": "code",
   "execution_count": 27,
   "metadata": {},
   "outputs": [
    {
     "name": "stdout",
     "output_type": "stream",
     "text": [
      "124\n",
      "652\n",
      "901\n",
      "397\n",
      "102\n"
     ]
    }
   ],
   "source": [
    "# Distinct\n",
    "lista1 = [124, 901, 652, 102, 397, 124, 901, 652]\n",
    "lstRDD = sc.parallelize(lista1)\n",
    "for numbData in lstRDD.distinct().collect():\n",
    "    print(numbData)"
   ]
  },
  {
   "cell_type": "markdown",
   "metadata": {
    "collapsed": true
   },
   "source": [
    "## Transformação e Limpeza"
   ]
  },
  {
   "cell_type": "code",
   "execution_count": 28,
   "metadata": {
    "collapsed": true
   },
   "outputs": [],
   "source": [
    "# Transformação e Limpeza\n",
    "def LimpaRDD(autoStr) :\n",
    "    if isinstance(autoStr, int) :\n",
    "        return autoStr\n",
    "    attList = autoStr.split(\",\")\n",
    "    \n",
    "    # Converte o número de portas para um num\n",
    "    if attList[3] == \"two\" :\n",
    "         attList[3] = \"2\"\n",
    "    else:\n",
    "         attList[3] = \"4\"\n",
    "    \n",
    "    # Convert o modelo do carro para uppercase\n",
    "    attList[5] = attList[4].upper()\n",
    "    return \",\".join(attList)"
   ]
  },
  {
   "cell_type": "code",
   "execution_count": 29,
   "metadata": {},
   "outputs": [
    {
     "data": {
      "text/plain": [
       "['MAKE,FUELTYPE,ASPIRE,4,BODY,BODY,CYLINDERS,HP,RPM,MPG-CITY,MPG-HWY,PRICE',\n",
       " 'subaru,gas,std,2,hatchback,HATCHBACK,four,69,4900,31,36,5118',\n",
       " 'chevrolet,gas,std,2,hatchback,HATCHBACK,three,48,5100,47,53,5151',\n",
       " 'mazda,gas,std,2,hatchback,HATCHBACK,four,68,5000,30,31,5195',\n",
       " 'toyota,gas,std,2,hatchback,HATCHBACK,four,62,4800,35,39,5348',\n",
       " 'mitsubishi,gas,std,2,hatchback,HATCHBACK,four,68,5500,37,41,5389',\n",
       " 'honda,gas,std,2,hatchback,HATCHBACK,four,60,5500,38,42,5399',\n",
       " 'nissan,gas,std,2,sedan,SEDAN,four,69,5200,31,37,5499',\n",
       " 'dodge,gas,std,2,hatchback,HATCHBACK,four,68,5500,37,41,5572',\n",
       " 'plymouth,gas,std,2,hatchback,HATCHBACK,four,68,5500,37,41,5572',\n",
       " 'mazda,gas,std,2,hatchback,HATCHBACK,four,68,5000,31,38,6095',\n",
       " 'mitsubishi,gas,std,2,hatchback,HATCHBACK,four,68,5500,31,38,6189',\n",
       " 'dodge,gas,std,4,hatchback,HATCHBACK,four,68,5500,31,38,6229',\n",
       " 'plymouth,gas,std,4,hatchback,HATCHBACK,four,68,5500,31,38,6229',\n",
       " 'chevrolet,gas,std,2,hatchback,HATCHBACK,four,70,5400,38,43,6295',\n",
       " 'toyota,gas,std,2,hatchback,HATCHBACK,four,62,4800,31,38,6338',\n",
       " 'dodge,gas,std,2,hatchback,HATCHBACK,four,68,5500,31,38,6377',\n",
       " 'honda,gas,std,2,hatchback,HATCHBACK,four,58,4800,49,54,6479',\n",
       " 'toyota,gas,std,4,hatchback,HATCHBACK,four,62,4800,31,38,6488',\n",
       " 'honda,gas,std,2,hatchback,HATCHBACK,four,76,6000,30,34,6529',\n",
       " 'chevrolet,gas,std,4,sedan,SEDAN,four,70,5400,38,43,6575',\n",
       " 'nissan,gas,std,2,sedan,SEDAN,four,69,5200,31,37,6649',\n",
       " 'mitsubishi,gas,std,2,hatchback,HATCHBACK,four,68,5500,31,38,6669',\n",
       " 'dodge,gas,std,4,sedan,SEDAN,four,68,5500,31,38,6692',\n",
       " 'plymouth,gas,std,4,sedan,SEDAN,four,68,5500,31,38,6692',\n",
       " 'mazda,gas,std,4,sedan,SEDAN,four,68,5000,31,38,6695',\n",
       " 'isuzu,gas,std,4,sedan,SEDAN,four,78,4800,24,29,6785',\n",
       " 'mazda,gas,std,2,hatchback,HATCHBACK,four,68,5000,31,38,6795',\n",
       " 'nissan,gas,std,4,sedan,SEDAN,four,69,5200,31,37,6849',\n",
       " 'honda,gas,std,2,hatchback,HATCHBACK,four,76,6000,31,38,6855',\n",
       " 'toyota,gas,std,4,wagon,WAGON,four,62,4800,31,37,6918',\n",
       " 'toyota,gas,std,4,sedan,SEDAN,four,70,4800,30,37,6938',\n",
       " 'mitsubishi,gas,std,4,sedan,SEDAN,four,88,5000,25,32,6989',\n",
       " 'subaru,gas,std,2,hatchback,HATCHBACK,four,73,4400,26,31,7053',\n",
       " 'nissan,diesel,std,2,sedan,SEDAN,four,55,4800,45,50,7099',\n",
       " 'subaru,gas,std,4,sedan,SEDAN,four,82,4800,32,37,7126',\n",
       " 'honda,gas,std,2,hatchback,HATCHBACK,four,76,6000,30,34,7129',\n",
       " 'toyota,gas,std,4,hatchback,HATCHBACK,four,70,4800,30,37,7198',\n",
       " 'honda,gas,std,4,sedan,SEDAN,four,76,6000,30,34,7295',\n",
       " 'honda,gas,std,4,wagon,WAGON,four,76,6000,30,34,7295',\n",
       " 'nissan,gas,std,2,sedan,SEDAN,four,69,5200,31,37,7299',\n",
       " 'nissan,gas,std,4,wagon,WAGON,four,69,5200,31,37,7349',\n",
       " 'mazda,gas,std,4,sedan,SEDAN,four,68,5000,31,38,7395',\n",
       " 'subaru,gas,std,4,wagon,WAGON,four,82,4800,28,32,7463',\n",
       " 'nissan,gas,std,4,sedan,SEDAN,four,69,5200,31,37,7499',\n",
       " 'subaru,gas,std,2,hatchback,HATCHBACK,four,73,4400,26,31,7603',\n",
       " 'dodge,gas,std,4,sedan,SEDAN,four,68,5500,31,38,7609',\n",
       " 'plymouth,gas,std,4,sedan,SEDAN,four,68,5500,31,38,7609',\n",
       " 'mitsubishi,gas,turbo,2,hatchback,HATCHBACK,four,102,5500,24,30,7689',\n",
       " 'toyota,gas,std,4,sedan,SEDAN,four,70,4800,38,47,7738',\n",
       " 'subaru,gas,std,4,sedan,SEDAN,four,82,4400,28,33,7775',\n",
       " 'volkswagen,diesel,std,2,sedan,SEDAN,four,52,4800,37,46,7775',\n",
       " 'toyota,diesel,std,4,hatchback,HATCHBACK,four,56,4500,38,47,7788',\n",
       " 'nissan,gas,std,2,hatchback,HATCHBACK,four,69,5200,31,37,7799',\n",
       " 'honda,gas,std,2,hatchback,HATCHBACK,four,86,5800,27,33,7895',\n",
       " 'toyota,gas,std,4,wagon,WAGON,four,62,4800,27,32,7898',\n",
       " 'toyota,diesel,std,4,sedan,SEDAN,four,56,4500,34,36,7898',\n",
       " 'dodge,gas,turbo,2,hatchback,HATCHBACK,four,102,5500,24,30,7957',\n",
       " 'plymouth,gas,turbo,2,hatchback,HATCHBACK,four,102,5500,24,30,7957',\n",
       " 'volkswagen,gas,std,2,sedan,SEDAN,four,85,5250,27,34,7975',\n",
       " 'volkswagen,diesel,std,4,sedan,SEDAN,four,52,4800,37,46,7995',\n",
       " 'nissan,gas,std,4,wagon,WAGON,four,69,5200,31,37,7999',\n",
       " 'subaru,gas,std,4,wagon,WAGON,four,82,4800,23,29,8013',\n",
       " 'toyota,gas,std,2,sedan,SEDAN,four,70,4800,29,34,8058',\n",
       " 'mitsubishi,gas,std,4,sedan,SEDAN,four,88,5000,25,32,8189',\n",
       " 'volkswagen,gas,std,4,sedan,SEDAN,four,85,5250,27,34,8195',\n",
       " 'toyota,gas,std,2,hatchback,HATCHBACK,four,70,4800,29,34,8238',\n",
       " 'nissan,gas,std,2,hardtop,HARDTOP,four,69,5200,31,37,8249',\n",
       " 'toyota,gas,std,4,hatchback,HATCHBACK,four,70,4800,28,34,8358',\n",
       " 'toyota,gas,std,2,hardtop,HARDTOP,four,116,4800,24,30,8449',\n",
       " 'mazda,gas,std,4,sedan,SEDAN,four,84,4800,26,32,8495',\n",
       " 'volkswagen,gas,std,4,sedan,SEDAN,four,85,5250,27,34,8495',\n",
       " 'mitsubishi,gas,std,2,hatchback,HATCHBACK,four,88,5000,25,32,8499',\n",
       " 'toyota,gas,std,4,wagon,WAGON,four,62,4800,27,32,8778',\n",
       " 'honda,gas,std,4,sedan,SEDAN,four,86,5800,27,33,8845',\n",
       " 'mazda,gas,std,2,hatchback,HATCHBACK,four,84,4800,26,32,8845',\n",
       " 'dodge,gas,std,4,wagon,WAGON,four,88,5000,24,30,8921',\n",
       " 'plymouth,gas,std,4,wagon,WAGON,four,88,5000,24,30,8921',\n",
       " 'toyota,gas,std,4,sedan,SEDAN,four,92,4200,29,34,8948',\n",
       " 'nissan,gas,std,4,hatchback,HATCHBACK,four,97,5200,27,34,8949',\n",
       " 'honda,gas,std,2,hatchback,HATCHBACK,four,86,5800,27,33,9095',\n",
       " 'subaru,gas,std,4,sedan,SEDAN,four,82,4800,24,25,9233',\n",
       " 'toyota,gas,std,4,sedan,SEDAN,four,70,4800,28,34,9258',\n",
       " 'mitsubishi,gas,turbo,4,sedan,SEDAN,four,116,5500,23,30,9279',\n",
       " 'mitsubishi,gas,std,4,sedan,SEDAN,four,116,5500,23,30,9279',\n",
       " 'toyota,gas,std,2,sedan,SEDAN,four,112,6600,26,29,9298',\n",
       " 'volkswagen,diesel,turbo,4,sedan,SEDAN,four,68,4500,37,42,9495',\n",
       " 'toyota,gas,std,2,hatchback,HATCHBACK,four,112,6600,26,29,9538',\n",
       " 'nissan,gas,std,4,sedan,SEDAN,four,97,5200,27,34,9549',\n",
       " 'toyota,gas,std,2,hardtop,HARDTOP,four,116,4800,24,30,9639',\n",
       " 'mitsubishi,gas,turbo,2,hatchback,HATCHBACK,four,116,5500,23,30,9959',\n",
       " 'subaru,gas,std,4,sedan,SEDAN,four,94,5200,26,32,9960',\n",
       " 'volkswagen,gas,std,2,hatchback,HATCHBACK,four,90,5500,24,29,9980',\n",
       " 'toyota,gas,std,4,hatchback,HATCHBACK,four,92,4200,27,32,9988',\n",
       " 'toyota,gas,std,2,hatchback,HATCHBACK,four,116,4800,24,30,9989',\n",
       " 'volkswagen,gas,std,4,sedan,SEDAN,four,100,5500,26,32,9995',\n",
       " 'subaru,gas,std,4,wagon,WAGON,four,94,5200,25,31,10198',\n",
       " 'mazda,gas,std,4,sedan,SEDAN,four,84,4800,26,32,10245',\n",
       " 'honda,gas,std,4,sedan,SEDAN,four,86,5800,27,33,10295',\n",
       " 'honda,gas,std,2,sedan,SEDAN,four,100,5500,25,31,10345',\n",
       " 'mazda,gas,std,2,hatchback,HATCHBACK,four,84,4800,26,32,10595',\n",
       " 'toyota,diesel,turbo,4,sedan,SEDAN,four,73,4500,30,33,10698',\n",
       " 'toyota,gas,std,4,sedan,SEDAN,four,92,4200,27,32,10898',\n",
       " 'mazda,gas,std,2,hatchback,HATCHBACK,two,101,6000,17,23,10945',\n",
       " 'isuzu,gas,std,2,hatchback,HATCHBACK,four,90,5000,24,29,11048',\n",
       " 'toyota,gas,std,2,hardtop,HARDTOP,four,116,4800,24,30,11199',\n",
       " 'mazda,gas,std,4,hatchback,HATCHBACK,four,84,4800,26,32,11245',\n",
       " 'toyota,gas,std,4,hatchback,HATCHBACK,four,92,4200,27,32,11248',\n",
       " 'subaru,gas,turbo,4,sedan,SEDAN,four,111,4800,24,29,11259',\n",
       " 'toyota,gas,std,2,hatchback,HATCHBACK,four,116,4800,24,30,11549',\n",
       " 'volkswagen,gas,std,2,convertible,CONVERTIBLE,four,90,5500,24,29,11595',\n",
       " 'subaru,gas,turbo,4,wagon,WAGON,four,111,4800,23,23,11694',\n",
       " 'mazda,gas,std,2,hatchback,HATCHBACK,two,101,6000,17,23,11845',\n",
       " 'saab,gas,std,2,hatchback,HATCHBACK,four,110,5250,21,28,11850',\n",
       " 'peugot,gas,std,4,sedan,SEDAN,four,97,5000,19,24,11900',\n",
       " 'saab,gas,std,4,sedan,SEDAN,four,110,5250,21,28,12170',\n",
       " 'volkswagen,gas,std,4,wagon,WAGON,four,88,5500,25,31,12290',\n",
       " 'peugot,gas,std,4,wagon,WAGON,four,97,5000,19,24,12440',\n",
       " 'mitsubishi,gas,turbo,2,hatchback,HATCHBACK,four,145,5000,19,24,12629',\n",
       " 'plymouth,gas,turbo,2,hatchback,HATCHBACK,four,145,5000,19,24,12764',\n",
       " 'volvo,gas,std,4,sedan,SEDAN,four,114,5400,23,28,12940',\n",
       " 'honda,gas,std,4,sedan,SEDAN,four,101,5800,24,28,12945',\n",
       " 'dodge,gas,turbo,2,hatchback,HATCHBACK,four,145,5000,19,24,12964',\n",
       " 'peugot,diesel,turbo,4,sedan,SEDAN,four,95,4150,28,33,13200',\n",
       " 'volkswagen,gas,std,4,sedan,SEDAN,five,110,5500,19,24,13295',\n",
       " 'volvo,gas,std,4,wagon,WAGON,four,114,5400,23,28,13415',\n",
       " 'alfa-romero,gas,std,2,convertible,CONVERTIBLE,four,111,5000,21,27,13495',\n",
       " 'nissan,gas,std,4,sedan,SEDAN,six,152,5200,17,22,13499',\n",
       " 'nissan,gas,std,4,sedan,SEDAN,six,152,5200,19,25,13499',\n",
       " 'mazda,gas,std,2,hatchback,HATCHBACK,two,101,6000,17,23,13645',\n",
       " 'volkswagen,diesel,turbo,4,sedan,SEDAN,four,68,4500,33,38,13845',\n",
       " 'peugot,diesel,turbo,4,wagon,WAGON,four,95,4150,25,25,13860',\n",
       " 'audi,gas,std,4,sedan,SEDAN,four,102,5500,24,30,13950',\n",
       " 'nissan,gas,std,4,wagon,WAGON,six,152,5200,17,22,14399',\n",
       " 'mitsubishi,gas,turbo,2,hatchback,HATCHBACK,four,145,5000,19,24,14489',\n",
       " 'mitsubishi,gas,turbo,2,hatchback,HATCHBACK,four,145,5000,19,24,14869',\n",
       " 'saab,gas,std,2,hatchback,HATCHBACK,four,110,5250,21,28,15040',\n",
       " 'audi,gas,std,2,sedan,SEDAN,five,110,5500,19,25,15250',\n",
       " 'saab,gas,std,4,sedan,SEDAN,four,110,5250,21,28,15510',\n",
       " 'peugot,gas,std,4,sedan,SEDAN,four,95,5000,19,24,15580',\n",
       " 'mazda,gas,std,2,hatchback,HATCHBACK,two,135,6000,16,23,15645',\n",
       " 'toyota,gas,std,4,sedan,SEDAN,six,156,5200,20,24,15690',\n",
       " 'toyota,gas,std,4,wagon,WAGON,six,156,5200,19,24,15750',\n",
       " 'volvo,gas,std,4,sedan,SEDAN,four,114,5400,24,28,15985',\n",
       " 'toyota,gas,std,2,hatchback,HATCHBACK,six,161,5200,19,24,15998',\n",
       " 'bmw,gas,std,2,sedan,SEDAN,four,101,5800,23,29,16430',\n",
       " 'alfa-romero,gas,std,2,convertible,CONVERTIBLE,four,111,5000,21,27,16500',\n",
       " 'alfa-romero,gas,std,2,hatchback,HATCHBACK,six,154,5000,19,26,16500',\n",
       " 'mercury,gas,turbo,2,hatchback,HATCHBACK,four,175,5000,19,24,16503',\n",
       " 'volvo,gas,std,4,wagon,WAGON,four,114,5400,24,28,16515',\n",
       " 'toyota,gas,std,2,hatchback,HATCHBACK,six,161,5200,20,24,16558',\n",
       " 'peugot,gas,std,4,sedan,SEDAN,four,97,5000,19,24,16630',\n",
       " 'peugot,gas,std,4,wagon,WAGON,four,95,5000,19,24,16695',\n",
       " 'volvo,gas,std,4,sedan,SEDAN,four,114,5400,23,28,16845',\n",
       " 'peugot,diesel,turbo,4,sedan,SEDAN,four,95,4150,28,33,16900',\n",
       " 'bmw,gas,std,4,sedan,SEDAN,four,101,5800,23,29,16925',\n",
       " 'peugot,diesel,turbo,4,wagon,WAGON,four,95,4150,25,25,17075',\n",
       " 'nissan,gas,std,2,hatchback,HATCHBACK,six,160,5200,19,25,17199',\n",
       " 'audi,gas,std,4,sedan,SEDAN,five,115,5500,18,22,17450',\n",
       " 'toyota,gas,std,2,convertible,CONVERTIBLE,four,116,4800,24,30,17669',\n",
       " 'audi,gas,std,4,sedan,SEDAN,five,110,5500,19,25,17710',\n",
       " 'peugot,diesel,turbo,4,sedan,SEDAN,four,95,4150,28,33,17950',\n",
       " 'peugot,gas,turbo,4,sedan,SEDAN,four,142,5600,18,24,18150',\n",
       " 'saab,gas,turbo,2,hatchback,HATCHBACK,four,160,5500,19,26,18150',\n",
       " 'mazda,gas,std,4,sedan,SEDAN,four,120,5000,19,27,18280',\n",
       " 'mazda,diesel,std,4,sedan,SEDAN,four,72,4200,31,39,18344',\n",
       " 'nissan,gas,std,2,hatchback,HATCHBACK,six,160,5200,19,25,18399',\n",
       " 'volvo,gas,turbo,4,sedan,SEDAN,four,162,5100,17,22,18420',\n",
       " 'saab,gas,turbo,4,sedan,SEDAN,four,160,5500,19,26,18620',\n",
       " 'audi,gas,std,4,wagon,WAGON,five,110,5500,19,25,18920',\n",
       " 'volvo,gas,turbo,4,wagon,WAGON,four,162,5100,17,22,18950',\n",
       " 'volvo,gas,turbo,4,sedan,SEDAN,four,160,5300,19,25,19045',\n",
       " 'nissan,gas,turbo,2,hatchback,HATCHBACK,six,200,5200,17,23,19699',\n",
       " 'bmw,gas,std,2,sedan,SEDAN,six,121,4250,21,28,20970',\n",
       " 'bmw,gas,std,4,sedan,SEDAN,six,121,4250,21,28,21105',\n",
       " 'volvo,gas,std,4,sedan,SEDAN,six,134,5500,18,23,21485',\n",
       " 'porsche,gas,std,2,hatchback,HATCHBACK,four,143,5500,19,27,22018',\n",
       " 'volvo,diesel,turbo,4,sedan,SEDAN,six,106,4800,26,27,22470',\n",
       " 'volvo,gas,turbo,4,sedan,SEDAN,four,114,5400,19,25,22625',\n",
       " 'audi,gas,turbo,4,sedan,SEDAN,five,140,5500,17,20,23875',\n",
       " 'bmw,gas,std,4,sedan,SEDAN,six,121,4250,20,25,24565',\n",
       " 'mercedes-benz,diesel,turbo,4,sedan,SEDAN,five,123,4350,22,25,25552',\n",
       " 'mercedes-benz,diesel,turbo,2,hardtop,HARDTOP,five,123,4350,22,25,28176',\n",
       " 'mercedes-benz,diesel,turbo,4,wagon,WAGON,five,123,4350,22,25,28248',\n",
       " 'bmw,gas,std,4,sedan,SEDAN,six,182,5400,16,22,30760',\n",
       " 'mercedes-benz,diesel,turbo,4,sedan,SEDAN,five,123,4350,22,25,31600',\n",
       " 'jaguar,gas,std,4,sedan,SEDAN,six,176,4750,15,19,32250',\n",
       " 'porsche,gas,std,2,hardtop,HARDTOP,six,207,5900,17,25,32528',\n",
       " 'porsche,gas,std,2,hardtop,HARDTOP,six,207,5900,17,25,34028',\n",
       " 'mercedes-benz,gas,std,4,sedan,SEDAN,eight,155,4750,16,18,34184',\n",
       " 'mercedes-benz,gas,std,2,convertible,CONVERTIBLE,eight,155,4750,16,18,35056',\n",
       " 'jaguar,gas,std,4,sedan,SEDAN,six,176,4750,15,19,35550',\n",
       " 'jaguar,gas,std,2,sedan,SEDAN,twelve,262,5000,13,17,36000',\n",
       " 'bmw,gas,std,4,sedan,SEDAN,six,182,5400,15,20,36880',\n",
       " 'porsche,gas,std,2,convertible,CONVERTIBLE,six,207,5900,17,25,37028',\n",
       " 'mercedes-benz,gas,std,4,sedan,SEDAN,eight,184,4500,14,16,40960',\n",
       " 'bmw,gas,std,2,sedan,SEDAN,six,182,5400,16,22,41315',\n",
       " 'mercedes-benz,gas,std,2,hardtop,HARDTOP,eight,184,4500,14,16,45400']"
      ]
     },
     "execution_count": 29,
     "metadata": {},
     "output_type": "execute_result"
    }
   ],
   "source": [
    "RDD_limpo = autoDataRDD.map(LimpaRDD)\n",
    "RDD_limpo.collect()"
   ]
  },
  {
   "cell_type": "markdown",
   "metadata": {},
   "source": [
    "## Ações"
   ]
  },
  {
   "cell_type": "code",
   "execution_count": 30,
   "metadata": {},
   "outputs": [
    {
     "data": {
      "text/plain": [
       "3853"
      ]
     },
     "execution_count": 30,
     "metadata": {},
     "output_type": "execute_result"
    }
   ],
   "source": [
    "# reduce() - soma de valores\n",
    "lista2 = [124, 901, 652, 102, 397, 124, 901, 652]\n",
    "lstRDD = sc.parallelize(lista2)\n",
    "lstRDD.collect()\n",
    "lstRDD.reduce(lambda x,y: x + y)"
   ]
  },
  {
   "cell_type": "code",
   "execution_count": 31,
   "metadata": {},
   "outputs": [
    {
     "data": {
      "text/plain": [
       "'bmw,gas,std,two,sedan,rwd,six,182,5400,16,22,41315'"
      ]
     },
     "execution_count": 31,
     "metadata": {},
     "output_type": "execute_result"
    }
   ],
   "source": [
    "# Encontrando a linha com menor número de caracteres\n",
    "autoDataRDD.reduce(lambda x,y: x if len(x) < len(y) else y)"
   ]
  },
  {
   "cell_type": "code",
   "execution_count": 32,
   "metadata": {
    "collapsed": true
   },
   "outputs": [],
   "source": [
    "# Criando uma função para redução\n",
    "def getMPG( autoStr) :\n",
    "    if isinstance(autoStr, int) :\n",
    "        return autoStr\n",
    "    attList = autoStr.split(\",\")\n",
    "    if attList[9].isdigit() :\n",
    "        return int(attList[9])\n",
    "    else:\n",
    "        return 0"
   ]
  },
  {
   "cell_type": "code",
   "execution_count": 33,
   "metadata": {},
   "outputs": [
    {
     "data": {
      "text/plain": [
       "25.15228426395939"
      ]
     },
     "execution_count": 33,
     "metadata": {},
     "output_type": "execute_result"
    }
   ],
   "source": [
    "# Encontrando a média de MPG para todos os carros\n",
    "autoDataRDD.reduce(lambda x,y : getMPG(x) + getMPG(y)) / (autoDataRDD.count() -1)"
   ]
  },
  {
   "cell_type": "code",
   "execution_count": 34,
   "metadata": {},
   "outputs": [
    {
     "data": {
      "text/plain": [
       "['Palmeiras', 'Botafogo', 'Botafogo']"
      ]
     },
     "execution_count": 34,
     "metadata": {},
     "output_type": "execute_result"
    }
   ],
   "source": [
    "teams = sc.parallelize((\"Flamengo\", \"Vasco\", \"Botafogo\", \"Fluminense\", \"Palmeiras\", \"Bahia\"))\n",
    "teams.takeSample(True, 3)"
   ]
  },
  {
   "cell_type": "code",
   "execution_count": 35,
   "metadata": {},
   "outputs": [
    {
     "data": {
      "text/plain": [
       "dict_items([('Flamengo', 1), ('Vasco', 2), ('Botafogo', 1), ('Fluminense', 1), ('Palmeiras', 1), ('Bahia', 2)])"
      ]
     },
     "execution_count": 35,
     "metadata": {},
     "output_type": "execute_result"
    }
   ],
   "source": [
    "teams = sc.parallelize((\"Flamengo\", \"Vasco\", \"Botafogo\", \"Fluminense\", \"Palmeiras\", \"Bahia\", \"Bahia\", \"Vasco\"))\n",
    "teams.map(lambda k: (k,1)).countByKey().items()"
   ]
  },
  {
   "cell_type": "code",
   "execution_count": 36,
   "metadata": {
    "collapsed": true
   },
   "outputs": [],
   "source": [
    "autoDataRDD.saveAsTextFile(\"autoDataRDD.txt\")"
   ]
  },
  {
   "cell_type": "markdown",
   "metadata": {},
   "source": [
    "# Fim"
   ]
  },
  {
   "cell_type": "markdown",
   "metadata": {},
   "source": [
    "### Obrigado - Data Science Academy - <a href=http://facebook.com/dsacademy>facebook.com/dsacademybr</a>"
   ]
  }
 ],
 "metadata": {
  "anaconda-cloud": {},
  "kernelspec": {
   "display_name": "Python 3",
   "language": "python",
   "name": "python3"
  },
  "language_info": {
   "codemirror_mode": {
    "name": "ipython",
    "version": 3
   },
   "file_extension": ".py",
   "mimetype": "text/x-python",
   "name": "python",
   "nbconvert_exporter": "python",
   "pygments_lexer": "ipython3",
   "version": "3.6.1"
  }
 },
 "nbformat": 4,
 "nbformat_minor": 1
}
